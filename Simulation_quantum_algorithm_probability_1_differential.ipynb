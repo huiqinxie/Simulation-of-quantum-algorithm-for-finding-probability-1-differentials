{
 "cells": [
  {
   "cell_type": "code",
   "execution_count": 1,
   "metadata": {},
   "outputs": [],
   "source": [
    "# importing Qiskit\n",
    "from qiskit import IBMQ, Aer\n",
    "from qiskit.providers.ibmq import least_busy\n",
    "from qiskit import QuantumCircuit, transpile, assemble\n",
    "\n",
    "# import basic plot tools\n",
    "from qiskit.visualization import plot_histogram"
   ]
  },
  {
   "cell_type": "code",
   "execution_count": 2,
   "metadata": {},
   "outputs": [
    {
     "data": {
      "text/html": [
       "<pre style=\"word-wrap: normal;white-space: pre;background: #fff0;line-height: 1.1;font-family: &quot;Courier New&quot;,Courier,monospace\">     ┌───┐ ░                      ░ ┌───┐     ┌─┐            \n",
       "q_0: ┤ H ├─░───■──────────────────░─┤ H ├─────┤M├────────────\n",
       "     ├───┤ ░   │                  ░ ├───┤     └╥┘┌─┐         \n",
       "q_1: ┤ H ├─░───┼────■─────────────░─┤ H ├──────╫─┤M├─────────\n",
       "     ├───┤ ░   │    │             ░ ├───┤      ║ └╥┘┌─┐      \n",
       "q_2: ┤ H ├─░───┼────┼────■────────░─┤ H ├──────╫──╫─┤M├──────\n",
       "     ├───┤ ░   │    │    │        ░ ├───┤      ║  ║ └╥┘┌─┐   \n",
       "q_3: ┤ H ├─░───┼────┼────┼────■───░─┤ H ├──────╫──╫──╫─┤M├───\n",
       "     ├───┤ ░   │    │    │    │   ░ └───┘┌───┐ ║  ║  ║ └╥┘┌─┐\n",
       "q_4: ┤ H ├─░───┼────┼────┼────┼───░───■──┤ H ├─╫──╫──╫──╫─┤M├\n",
       "     └───┘ ░ ┌─┴─┐┌─┴─┐┌─┴─┐┌─┴─┐ ░ ┌─┴─┐└───┘ ║  ║  ║  ║ └╥┘\n",
       "q_5: ──────░─┤ X ├┤ X ├┤ X ├┤ X ├─░─┤ X ├──────╫──╫──╫──╫──╫─\n",
       "           ░ └───┘└───┘└───┘└───┘ ░ └───┘      ║  ║  ║  ║  ║ \n",
       "c: 5/══════════════════════════════════════════╩══╩══╩══╩══╩═\n",
       "                                               0  1  2  3  4 </pre>"
      ],
      "text/plain": [
       "     ┌───┐ ░                      ░ ┌───┐     ┌─┐            \n",
       "q_0: ┤ H ├─░───■──────────────────░─┤ H ├─────┤M├────────────\n",
       "     ├───┤ ░   │                  ░ ├───┤     └╥┘┌─┐         \n",
       "q_1: ┤ H ├─░───┼────■─────────────░─┤ H ├──────╫─┤M├─────────\n",
       "     ├───┤ ░   │    │             ░ ├───┤      ║ └╥┘┌─┐      \n",
       "q_2: ┤ H ├─░───┼────┼────■────────░─┤ H ├──────╫──╫─┤M├──────\n",
       "     ├───┤ ░   │    │    │        ░ ├───┤      ║  ║ └╥┘┌─┐   \n",
       "q_3: ┤ H ├─░───┼────┼────┼────■───░─┤ H ├──────╫──╫──╫─┤M├───\n",
       "     ├───┤ ░   │    │    │    │   ░ └───┘┌───┐ ║  ║  ║ └╥┘┌─┐\n",
       "q_4: ┤ H ├─░───┼────┼────┼────┼───░───■──┤ H ├─╫──╫──╫──╫─┤M├\n",
       "     └───┘ ░ ┌─┴─┐┌─┴─┐┌─┴─┐┌─┴─┐ ░ ┌─┴─┐└───┘ ║  ║  ║  ║ └╥┘\n",
       "q_5: ──────░─┤ X ├┤ X ├┤ X ├┤ X ├─░─┤ X ├──────╫──╫──╫──╫──╫─\n",
       "           ░ └───┘└───┘└───┘└───┘ ░ └───┘      ║  ║  ║  ║  ║ \n",
       "c: 5/══════════════════════════════════════════╩══╩══╩══╩══╩═\n",
       "                                               0  1  2  3  4 "
      ]
     },
     "execution_count": 2,
     "metadata": {},
     "output_type": "execute_result"
    }
   ],
   "source": [
    "n = 4\n",
    "m=1\n",
    "quantum_circuit = QuantumCircuit(2*m+n,n+m)\n",
    "\n",
    "# Apply Hadamard gates before querying the oracle\n",
    "quantum_circuit.h([0,1,2,3,4])    \n",
    "    \n",
    "# Apply barrier for visual separation\n",
    "quantum_circuit.barrier()\n",
    "\n",
    "quantum_circuit.cx(0,5)\n",
    "quantum_circuit.cx(1,5)\n",
    "quantum_circuit.cx(2,5)\n",
    "quantum_circuit.cx(3,5)\n",
    "\n",
    "# Apply barrier for visual separation\n",
    "\n",
    "\n",
    "quantum_circuit.barrier()\n",
    "\n",
    "# Apply Hadamard gates to the input register\n",
    "quantum_circuit.cx(4,5)\n",
    "quantum_circuit.h([0,1,2,3,4])\n",
    "\n",
    "# Measure qubits\n",
    "quantum_circuit.measure(range(n+m),range(n+m))\n",
    "quantum_circuit.draw()"
   ]
  },
  {
   "cell_type": "code",
   "execution_count": 5,
   "metadata": {},
   "outputs": [
    {
     "data": {
      "image/png": "[encoded data removed]",
      "text/plain": [
       "<Figure size 504x360 with 1 Axes>"
      ]
     },
     "execution_count": 5,
     "metadata": {},
     "output_type": "execute_result"
    }
   ],
   "source": [
    "# use local simulator\n",
    "aer_sim = Aer.get_backend('aer_simulator')\n",
    "shots = 1024\n",
    "qobj = assemble(quantum_circuit, shots=shots)\n",
    "results = aer_sim.run(qobj).result()\n",
    "counts = results.get_counts()\n",
    "plot_histogram(counts)"
   ]
  },
  {
   "cell_type": "code",
   "execution_count": null,
   "metadata": {},
   "outputs": [],
   "source": []
  }
 ],
 "metadata": {
  "kernelspec": {
   "display_name": "Python 3",
   "language": "python",
   "name": "python3"
  },
  "language_info": {
   "codemirror_mode": {
    "name": "ipython",
    "version": 3
   },
   "file_extension": ".py",
   "mimetype": "text/x-python",
   "name": "python",
   "nbconvert_exporter": "python",
   "pygments_lexer": "ipython3",
   "version": "3.6.5"
  }
 },
 "nbformat": 4,
 "nbformat_minor": 2
}
